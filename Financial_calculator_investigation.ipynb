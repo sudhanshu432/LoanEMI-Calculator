{
 "cells": [
  {
   "cell_type": "markdown",
   "metadata": {},
   "source": [
    "# Financial Calculator\n",
    "\n",
    "### Task:\n",
    "Create a function that calculates the montly installment of a loan.\n",
    "\n",
    "### Example:\n",
    "\n",
    "Precise took R150 000 loan at a 7.5% annual interest rate for 5 years after a R15 000 down payment.\n",
    "\n",
    "### The formula:\n",
    "\n",
    "`A = P(r(1+r)^n)/((1+r)^n-1)`\n",
    "\n",
    "**Where**\n",
    "- P = R 150 000\n",
    "- r = 7.5 % per year / 12 months = 0.625% per period ( 0.00625 on your calculator)\n",
    "- n = 5 years x 12 months = 60 total periods\n",
    "\n",
    "### Answer:\n",
    "\n",
    "Precise will be paying : <br>\n",
    "\n",
    "A = R 150 000 (0.00625 x (1 + 0.00625)^6)/(1+0.00625)^(60-1) <br>\n",
    "A = R 150 000 (0.00625 x 1.45329)/(1.45329 -1) <br>\n",
    "A = R 150 000 (0.00908306/0.45329) <br>\n",
    "A = R 150 000 (0.02003808) <br>\n",
    "A = R 3005.71 <br>\n"
   ]
  },
  {
   "cell_type": "code",
   "execution_count": 21,
   "metadata": {},
   "outputs": [],
   "source": [
    "#Finial Calculator function\n",
    "\n",
    "def monthly_installment(principal, period, interest_rate):\n",
    "    \"\"\"\n",
    "    The monthly_installment function takes the following arguments:\n",
    "\n",
    "    Principal = Initial principal or loan amount\n",
    "    interest_rate = Interest rate per period\n",
    "    period = Total number of payments or periods\n",
    "\n",
    "    return:\n",
    "\n",
    "    monthly_installment\n",
    "\n",
    "    Example:\n",
    "\n",
    "    Precise took R150 000 loan at 7.5% annual interest rate for 5 years after a R15 000 down payment\n",
    "\n",
    "    ` A = P(r(1+r)^n)/((1+r)^n-1)`\n",
    "\n",
    "    - P = R150 000\n",
    "    - r = 7.5% per year / 12 monts = 0.625% per period (0.00625 on your calculator)\n",
    "    - n = 5 years x 12 months = 60 total periods\n",
    "\n",
    "    - A = R 150 000 ( 0.00625 x(1+0.00625)^6)/((1+00625))^(60-1) \n",
    "    - A = R150 000 (0.00625 x 1.45329)/(1.45329 -1)\n",
    "    - A = R150 000 (0.00908306/0.45329)\n",
    "    - A = R 150 000 (0.02003808)\n",
    "    - A = R 3005.71\n",
    "\n",
    "    \"\"\"\n",
    "\n",
    "    interest_rate = (interest_rate/12)/(100)\n",
    "    period = period*12\n",
    "    monthly_installment = principal *(interest_rate *(1+interest_rate)**period) / ( (1+interest_rate)**period -1 )\n",
    "    \n",
    "    return round(monthly_installment,2)"
   ]
  },
  {
   "cell_type": "code",
   "execution_count": 25,
   "metadata": {},
   "outputs": [
    {
     "data": {
      "text/plain": [
       "3005.69"
      ]
     },
     "execution_count": 25,
     "metadata": {},
     "output_type": "execute_result"
    }
   ],
   "source": [
    "#Test Function\n",
    "principal = 150000\n",
    "interest_rate = 7.5\n",
    "period = 5\n",
    "\n",
    "monthly_installment(principal, period, interest_rate)"
   ]
  }
 ],
 "metadata": {
  "kernelspec": {
   "display_name": "Python 3.9.2 64-bit",
   "language": "python",
   "name": "python3"
  },
  "language_info": {
   "codemirror_mode": {
    "name": "ipython",
    "version": 3
   },
   "file_extension": ".py",
   "mimetype": "text/x-python",
   "name": "python",
   "nbconvert_exporter": "python",
   "pygments_lexer": "ipython3",
   "version": "3.9.2"
  },
  "orig_nbformat": 4,
  "vscode": {
   "interpreter": {
    "hash": "949777d72b0d2535278d3dc13498b2535136f6dfe0678499012e853ee9abcab1"
   }
  }
 },
 "nbformat": 4,
 "nbformat_minor": 2
}
